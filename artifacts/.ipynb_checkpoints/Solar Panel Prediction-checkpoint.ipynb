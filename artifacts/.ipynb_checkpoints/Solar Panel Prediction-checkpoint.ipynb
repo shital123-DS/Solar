{
 "cells": [
  {
   "cell_type": "markdown",
   "id": "c922bb67",
   "metadata": {},
   "source": [
    "### Problem Statement"
   ]
  },
  {
   "cell_type": "markdown",
   "id": "3c2cb804",
   "metadata": {},
   "source": [
    "Predict the Efficiency of solar panel"
   ]
  },
  {
   "cell_type": "markdown",
   "id": "37f7e6b8",
   "metadata": {},
   "source": [
    "### Data Collection"
   ]
  },
  {
   "cell_type": "code",
   "execution_count": 1,
   "id": "8e54361a",
   "metadata": {},
   "outputs": [
    {
     "name": "stdout",
     "output_type": "stream",
     "text": [
      "Python 3.8.10\n"
     ]
    }
   ],
   "source": [
    "!python --version"
   ]
  },
  {
   "cell_type": "code",
   "execution_count": 2,
   "id": "ae61ec6c",
   "metadata": {},
   "outputs": [],
   "source": [
    "import numpy as np\n",
    "import pandas as pd\n",
    "from sklearn.linear_model import LinearRegression\n",
    "from sklearn.model_selection import train_test_split\n",
    "from sklearn.metrics import mean_squared_error, mean_absolute_error,r2_score"
   ]
  },
  {
   "cell_type": "code",
   "execution_count": 3,
   "id": "08c54620",
   "metadata": {},
   "outputs": [
    {
     "data": {
      "text/html": [
       "<div>\n",
       "<style scoped>\n",
       "    .dataframe tbody tr th:only-of-type {\n",
       "        vertical-align: middle;\n",
       "    }\n",
       "\n",
       "    .dataframe tbody tr th {\n",
       "        vertical-align: top;\n",
       "    }\n",
       "\n",
       "    .dataframe thead th {\n",
       "        text-align: right;\n",
       "    }\n",
       "</style>\n",
       "<table border=\"1\" class=\"dataframe\">\n",
       "  <thead>\n",
       "    <tr style=\"text-align: right;\">\n",
       "      <th></th>\n",
       "      <th>module type</th>\n",
       "      <th>type</th>\n",
       "      <th>Max Power (Pmax), Wp</th>\n",
       "      <th>Max Power Volt (Vmp)</th>\n",
       "      <th>Max Power Curr (Imp)</th>\n",
       "      <th>Open Circuit Volt (Voc)</th>\n",
       "      <th>Short Circuit Curr (Isc)</th>\n",
       "      <th>Module Efficiency (%)</th>\n",
       "    </tr>\n",
       "  </thead>\n",
       "  <tbody>\n",
       "    <tr>\n",
       "      <th>0</th>\n",
       "      <td>JKM590N-78HL4-BDV</td>\n",
       "      <td>STC</td>\n",
       "      <td>590</td>\n",
       "      <td>44.91</td>\n",
       "      <td>13.14</td>\n",
       "      <td>54.76</td>\n",
       "      <td>13.71</td>\n",
       "      <td>21.11</td>\n",
       "    </tr>\n",
       "    <tr>\n",
       "      <th>1</th>\n",
       "      <td>JKM590N-78HL4-BDV</td>\n",
       "      <td>NOCT</td>\n",
       "      <td>444</td>\n",
       "      <td>41.89</td>\n",
       "      <td>10.59</td>\n",
       "      <td>52.02</td>\n",
       "      <td>11.07</td>\n",
       "      <td>21.11</td>\n",
       "    </tr>\n",
       "  </tbody>\n",
       "</table>\n",
       "</div>"
      ],
      "text/plain": [
       "         module type  type  Max Power (Pmax), Wp  Max Power Volt (Vmp)  \\\n",
       "0  JKM590N-78HL4-BDV   STC                   590                 44.91   \n",
       "1  JKM590N-78HL4-BDV  NOCT                   444                 41.89   \n",
       "\n",
       "   Max Power Curr (Imp)  Open Circuit Volt (Voc)  Short Circuit Curr (Isc)  \\\n",
       "0                 13.14                    54.76                     13.71   \n",
       "1                 10.59                    52.02                     11.07   \n",
       "\n",
       "   Module Efficiency (%)  \n",
       "0                  21.11  \n",
       "1                  21.11  "
      ]
     },
     "execution_count": 3,
     "metadata": {},
     "output_type": "execute_result"
    }
   ],
   "source": [
    "df = pd.read_csv('solar_data.csv')\n",
    "df.head(2)"
   ]
  },
  {
   "cell_type": "markdown",
   "id": "216c9542",
   "metadata": {},
   "source": [
    "### EDA"
   ]
  },
  {
   "cell_type": "code",
   "execution_count": 4,
   "id": "d24c2fff",
   "metadata": {},
   "outputs": [
    {
     "name": "stdout",
     "output_type": "stream",
     "text": [
      "<class 'pandas.core.frame.DataFrame'>\n",
      "RangeIndex: 10 entries, 0 to 9\n",
      "Data columns (total 8 columns):\n",
      " #   Column                    Non-Null Count  Dtype  \n",
      "---  ------                    --------------  -----  \n",
      " 0   module type               10 non-null     object \n",
      " 1   type                      10 non-null     object \n",
      " 2   Max Power (Pmax), Wp      10 non-null     int64  \n",
      " 3   Max Power Volt (Vmp)      10 non-null     float64\n",
      " 4   Max Power Curr (Imp)      10 non-null     float64\n",
      " 5   Open Circuit Volt (Voc)   10 non-null     float64\n",
      " 6   Short Circuit Curr (Isc)  10 non-null     float64\n",
      " 7   Module Efficiency (%)     10 non-null     float64\n",
      "dtypes: float64(5), int64(1), object(2)\n",
      "memory usage: 768.0+ bytes\n"
     ]
    }
   ],
   "source": [
    "# EDA\n",
    "\n",
    "df.info()            # convert int to float"
   ]
  },
  {
   "cell_type": "code",
   "execution_count": 5,
   "id": "785c5163",
   "metadata": {},
   "outputs": [],
   "source": [
    "df['Max Power (Pmax), Wp'] = df['Max Power (Pmax), Wp'].astype(float)"
   ]
  },
  {
   "cell_type": "code",
   "execution_count": 6,
   "id": "b3fea6ad",
   "metadata": {
    "scrolled": false
   },
   "outputs": [
    {
     "name": "stdout",
     "output_type": "stream",
     "text": [
      "<class 'pandas.core.frame.DataFrame'>\n",
      "RangeIndex: 10 entries, 0 to 9\n",
      "Data columns (total 8 columns):\n",
      " #   Column                    Non-Null Count  Dtype  \n",
      "---  ------                    --------------  -----  \n",
      " 0   module type               10 non-null     object \n",
      " 1   type                      10 non-null     object \n",
      " 2   Max Power (Pmax), Wp      10 non-null     float64\n",
      " 3   Max Power Volt (Vmp)      10 non-null     float64\n",
      " 4   Max Power Curr (Imp)      10 non-null     float64\n",
      " 5   Open Circuit Volt (Voc)   10 non-null     float64\n",
      " 6   Short Circuit Curr (Isc)  10 non-null     float64\n",
      " 7   Module Efficiency (%)     10 non-null     float64\n",
      "dtypes: float64(6), object(2)\n",
      "memory usage: 768.0+ bytes\n"
     ]
    }
   ],
   "source": [
    "df.info()"
   ]
  },
  {
   "cell_type": "code",
   "execution_count": 7,
   "id": "f72880f4",
   "metadata": {
    "scrolled": true
   },
   "outputs": [
    {
     "data": {
      "text/plain": [
       "module type                 0\n",
       "type                        0\n",
       "Max Power (Pmax), Wp        0\n",
       "Max Power Volt (Vmp)        0\n",
       "Max Power Curr (Imp)        0\n",
       "Open Circuit Volt (Voc)     0\n",
       "Short Circuit Curr (Isc)    0\n",
       "Module Efficiency (%)       0\n",
       "dtype: int64"
      ]
     },
     "execution_count": 7,
     "metadata": {},
     "output_type": "execute_result"
    }
   ],
   "source": [
    "df.isna().sum()"
   ]
  },
  {
   "cell_type": "markdown",
   "id": "42e5be32",
   "metadata": {},
   "source": [
    "### Model Training"
   ]
  },
  {
   "cell_type": "code",
   "execution_count": 8,
   "id": "f766cbe0",
   "metadata": {},
   "outputs": [],
   "source": [
    "# Defining independent & dependent features\n",
    "\n",
    "x = df.drop(['module type','type','Module Efficiency (%)'],axis=1)\n",
    "y = df['Module Efficiency (%)']"
   ]
  },
  {
   "cell_type": "code",
   "execution_count": 9,
   "id": "31b613f8",
   "metadata": {},
   "outputs": [
    {
     "data": {
      "text/plain": [
       "((7, 5), (3, 5), (7,), (3,))"
      ]
     },
     "execution_count": 9,
     "metadata": {},
     "output_type": "execute_result"
    }
   ],
   "source": [
    "# split the data\n",
    "\n",
    "x_train, x_test, y_train, y_test = train_test_split(x,y, test_size = 0.25, random_state=2)\n",
    "x_train.shape, x_test.shape, y_train.shape, y_test.shape"
   ]
  },
  {
   "cell_type": "code",
   "execution_count": 10,
   "id": "905c895e",
   "metadata": {},
   "outputs": [
    {
     "data": {
      "text/html": [
       "<style>#sk-container-id-1 {color: black;background-color: white;}#sk-container-id-1 pre{padding: 0;}#sk-container-id-1 div.sk-toggleable {background-color: white;}#sk-container-id-1 label.sk-toggleable__label {cursor: pointer;display: block;width: 100%;margin-bottom: 0;padding: 0.3em;box-sizing: border-box;text-align: center;}#sk-container-id-1 label.sk-toggleable__label-arrow:before {content: \"▸\";float: left;margin-right: 0.25em;color: #696969;}#sk-container-id-1 label.sk-toggleable__label-arrow:hover:before {color: black;}#sk-container-id-1 div.sk-estimator:hover label.sk-toggleable__label-arrow:before {color: black;}#sk-container-id-1 div.sk-toggleable__content {max-height: 0;max-width: 0;overflow: hidden;text-align: left;background-color: #f0f8ff;}#sk-container-id-1 div.sk-toggleable__content pre {margin: 0.2em;color: black;border-radius: 0.25em;background-color: #f0f8ff;}#sk-container-id-1 input.sk-toggleable__control:checked~div.sk-toggleable__content {max-height: 200px;max-width: 100%;overflow: auto;}#sk-container-id-1 input.sk-toggleable__control:checked~label.sk-toggleable__label-arrow:before {content: \"▾\";}#sk-container-id-1 div.sk-estimator input.sk-toggleable__control:checked~label.sk-toggleable__label {background-color: #d4ebff;}#sk-container-id-1 div.sk-label input.sk-toggleable__control:checked~label.sk-toggleable__label {background-color: #d4ebff;}#sk-container-id-1 input.sk-hidden--visually {border: 0;clip: rect(1px 1px 1px 1px);clip: rect(1px, 1px, 1px, 1px);height: 1px;margin: -1px;overflow: hidden;padding: 0;position: absolute;width: 1px;}#sk-container-id-1 div.sk-estimator {font-family: monospace;background-color: #f0f8ff;border: 1px dotted black;border-radius: 0.25em;box-sizing: border-box;margin-bottom: 0.5em;}#sk-container-id-1 div.sk-estimator:hover {background-color: #d4ebff;}#sk-container-id-1 div.sk-parallel-item::after {content: \"\";width: 100%;border-bottom: 1px solid gray;flex-grow: 1;}#sk-container-id-1 div.sk-label:hover label.sk-toggleable__label {background-color: #d4ebff;}#sk-container-id-1 div.sk-serial::before {content: \"\";position: absolute;border-left: 1px solid gray;box-sizing: border-box;top: 0;bottom: 0;left: 50%;z-index: 0;}#sk-container-id-1 div.sk-serial {display: flex;flex-direction: column;align-items: center;background-color: white;padding-right: 0.2em;padding-left: 0.2em;position: relative;}#sk-container-id-1 div.sk-item {position: relative;z-index: 1;}#sk-container-id-1 div.sk-parallel {display: flex;align-items: stretch;justify-content: center;background-color: white;position: relative;}#sk-container-id-1 div.sk-item::before, #sk-container-id-1 div.sk-parallel-item::before {content: \"\";position: absolute;border-left: 1px solid gray;box-sizing: border-box;top: 0;bottom: 0;left: 50%;z-index: -1;}#sk-container-id-1 div.sk-parallel-item {display: flex;flex-direction: column;z-index: 1;position: relative;background-color: white;}#sk-container-id-1 div.sk-parallel-item:first-child::after {align-self: flex-end;width: 50%;}#sk-container-id-1 div.sk-parallel-item:last-child::after {align-self: flex-start;width: 50%;}#sk-container-id-1 div.sk-parallel-item:only-child::after {width: 0;}#sk-container-id-1 div.sk-dashed-wrapped {border: 1px dashed gray;margin: 0 0.4em 0.5em 0.4em;box-sizing: border-box;padding-bottom: 0.4em;background-color: white;}#sk-container-id-1 div.sk-label label {font-family: monospace;font-weight: bold;display: inline-block;line-height: 1.2em;}#sk-container-id-1 div.sk-label-container {text-align: center;}#sk-container-id-1 div.sk-container {/* jupyter's `normalize.less` sets `[hidden] { display: none; }` but bootstrap.min.css set `[hidden] { display: none !important; }` so we also need the `!important` here to be able to override the default hidden behavior on the sphinx rendered scikit-learn.org. See: https://github.com/scikit-learn/scikit-learn/issues/21755 */display: inline-block !important;position: relative;}#sk-container-id-1 div.sk-text-repr-fallback {display: none;}</style><div id=\"sk-container-id-1\" class=\"sk-top-container\"><div class=\"sk-text-repr-fallback\"><pre>LinearRegression()</pre><b>In a Jupyter environment, please rerun this cell to show the HTML representation or trust the notebook. <br />On GitHub, the HTML representation is unable to render, please try loading this page with nbviewer.org.</b></div><div class=\"sk-container\" hidden><div class=\"sk-item\"><div class=\"sk-estimator sk-toggleable\"><input class=\"sk-toggleable__control sk-hidden--visually\" id=\"sk-estimator-id-1\" type=\"checkbox\" checked><label for=\"sk-estimator-id-1\" class=\"sk-toggleable__label sk-toggleable__label-arrow\">LinearRegression</label><div class=\"sk-toggleable__content\"><pre>LinearRegression()</pre></div></div></div></div></div>"
      ],
      "text/plain": [
       "LinearRegression()"
      ]
     },
     "execution_count": 10,
     "metadata": {},
     "output_type": "execute_result"
    }
   ],
   "source": [
    "# Model Training\n",
    "\n",
    "sol_model = LinearRegression()\n",
    "sol_model.fit(x_train,y_train)   # BFL .... m & c"
   ]
  },
  {
   "cell_type": "code",
   "execution_count": 11,
   "id": "aacf683b",
   "metadata": {},
   "outputs": [
    {
     "data": {
      "text/plain": [
       "array([-0.03112672,  0.01033721, -2.24857195,  2.88688976,  0.89241428])"
      ]
     },
     "execution_count": 11,
     "metadata": {},
     "output_type": "execute_result"
    }
   ],
   "source": [
    "sol_model.coef_       # m"
   ]
  },
  {
   "cell_type": "code",
   "execution_count": 12,
   "id": "e1fb269e",
   "metadata": {},
   "outputs": [
    {
     "data": {
      "text/plain": [
       "-101.76705799228885"
      ]
     },
     "execution_count": 12,
     "metadata": {},
     "output_type": "execute_result"
    }
   ],
   "source": [
    "sol_model.intercept_   # c"
   ]
  },
  {
   "cell_type": "markdown",
   "id": "bf07cd41",
   "metadata": {},
   "source": [
    "### Model Evaluation"
   ]
  },
  {
   "cell_type": "code",
   "execution_count": 13,
   "id": "f28aaf66",
   "metadata": {},
   "outputs": [
    {
     "data": {
      "text/plain": [
       "array([21.45193651, 21.08836024, 21.44075844])"
      ]
     },
     "execution_count": 13,
     "metadata": {},
     "output_type": "execute_result"
    }
   ],
   "source": [
    "# For Testing Data\n",
    "\n",
    "y_pred_test = sol_model.predict(x_test)\n",
    "y_pred_test"
   ]
  },
  {
   "cell_type": "code",
   "execution_count": 14,
   "id": "bcab6886",
   "metadata": {},
   "outputs": [
    {
     "name": "stdout",
     "output_type": "stream",
     "text": [
      "Mean Squared Error : 0.00030117886675340026\n",
      "Root Mean Squared Error : 0.017354505661452885\n",
      "Mean Absolute Error : 0.01631493603811407\n",
      "R Squared Error : 0.9889362865274262\n"
     ]
    }
   ],
   "source": [
    "mse = mean_squared_error(y_test,y_pred_test)\n",
    "print(f\"Mean Squared Error : {mse}\")\n",
    "rmse = np.sqrt(mse)\n",
    "print(f\"Root Mean Squared Error : {rmse}\")\n",
    "mae = mean_absolute_error(y_test,y_pred_test)\n",
    "print(f\"Mean Absolute Error : {mae}\")\n",
    "r2 = r2_score(y_test,y_pred_test)\n",
    "print(f\"R Squared Error : {r2}\")"
   ]
  },
  {
   "cell_type": "code",
   "execution_count": 15,
   "id": "b30ac665",
   "metadata": {},
   "outputs": [
    {
     "data": {
      "text/plain": [
       "array([21.10727114, 21.64018378, 21.29403827, 21.29004339, 21.63870364,\n",
       "       21.81976773, 21.81999205])"
      ]
     },
     "execution_count": 15,
     "metadata": {},
     "output_type": "execute_result"
    }
   ],
   "source": [
    "# For Training Data\n",
    "\n",
    "y_pred_train = sol_model.predict(x_train)\n",
    "y_pred_train"
   ]
  },
  {
   "cell_type": "code",
   "execution_count": 16,
   "id": "1b81b7c9",
   "metadata": {},
   "outputs": [
    {
     "name": "stdout",
     "output_type": "stream",
     "text": [
      "Mean Squared Error : 3.64636321516612e-06\n",
      "Root Mean Squared Error : 0.0019095452901583979\n",
      "Mean Absolute Error : 0.0012186971456742413\n",
      "R Squared Error : 0.9999471072239363\n"
     ]
    }
   ],
   "source": [
    "mse = mean_squared_error(y_train,y_pred_train)\n",
    "print(f\"Mean Squared Error : {mse}\")\n",
    "rmse = np.sqrt(mse)\n",
    "print(f\"Root Mean Squared Error : {rmse}\")\n",
    "mae = mean_absolute_error(y_train,y_pred_train)\n",
    "print(f\"Mean Absolute Error : {mae}\")\n",
    "r2 = r2_score(y_train,y_pred_train)\n",
    "print(f\"R Squared Error : {r2}\")"
   ]
  },
  {
   "cell_type": "markdown",
   "id": "87a0612e",
   "metadata": {},
   "source": [
    "### User Test Function"
   ]
  },
  {
   "cell_type": "code",
   "execution_count": 17,
   "id": "c979e6b0",
   "metadata": {},
   "outputs": [
    {
     "data": {
      "text/html": [
       "<div>\n",
       "<style scoped>\n",
       "    .dataframe tbody tr th:only-of-type {\n",
       "        vertical-align: middle;\n",
       "    }\n",
       "\n",
       "    .dataframe tbody tr th {\n",
       "        vertical-align: top;\n",
       "    }\n",
       "\n",
       "    .dataframe thead th {\n",
       "        text-align: right;\n",
       "    }\n",
       "</style>\n",
       "<table border=\"1\" class=\"dataframe\">\n",
       "  <thead>\n",
       "    <tr style=\"text-align: right;\">\n",
       "      <th></th>\n",
       "      <th>0</th>\n",
       "    </tr>\n",
       "  </thead>\n",
       "  <tbody>\n",
       "    <tr>\n",
       "      <th>Max Power (Pmax), Wp</th>\n",
       "      <td>590.00</td>\n",
       "    </tr>\n",
       "    <tr>\n",
       "      <th>Max Power Volt (Vmp)</th>\n",
       "      <td>44.91</td>\n",
       "    </tr>\n",
       "    <tr>\n",
       "      <th>Max Power Curr (Imp)</th>\n",
       "      <td>13.14</td>\n",
       "    </tr>\n",
       "    <tr>\n",
       "      <th>Open Circuit Volt (Voc)</th>\n",
       "      <td>54.76</td>\n",
       "    </tr>\n",
       "    <tr>\n",
       "      <th>Short Circuit Curr (Isc)</th>\n",
       "      <td>13.71</td>\n",
       "    </tr>\n",
       "  </tbody>\n",
       "</table>\n",
       "</div>"
      ],
      "text/plain": [
       "                               0\n",
       "Max Power (Pmax), Wp      590.00\n",
       "Max Power Volt (Vmp)       44.91\n",
       "Max Power Curr (Imp)       13.14\n",
       "Open Circuit Volt (Voc)    54.76\n",
       "Short Circuit Curr (Isc)   13.71"
      ]
     },
     "execution_count": 17,
     "metadata": {},
     "output_type": "execute_result"
    }
   ],
   "source": [
    "x_train.head(1).T"
   ]
  },
  {
   "cell_type": "code",
   "execution_count": null,
   "id": "a776007c",
   "metadata": {},
   "outputs": [],
   "source": [
    "        Pmax = float(self.data['Pmax'])\n",
    "        Vmp = float(self.data['Vmp'])\n",
    "        Imp = float(self.data['Imp'])\n",
    "        Voc = float(self.data['Voc'])\n",
    "        Isc = float(self.data['Isc'])\n",
    "\n",
    "        input1 = np.array([Pmax,Vmp,Imp,Voc,Isc], ndmin=2)\n",
    "\n",
    "        prediction = self.model.predict(input1)[0]\n",
    "        print(prediction)\n",
    "        return prediction"
   ]
  },
  {
   "cell_type": "code",
   "execution_count": 19,
   "id": "0a8e516f",
   "metadata": {},
   "outputs": [
    {
     "name": "stderr",
     "output_type": "stream",
     "text": [
      "C:\\Users\\Bhushan\\AppData\\Local\\Programs\\Python\\Python310\\lib\\site-packages\\sklearn\\base.py:450: UserWarning: X does not have valid feature names, but LinearRegression was fitted with feature names\n",
      "  warnings.warn(\n"
     ]
    },
    {
     "data": {
      "text/plain": [
       "21.10727113744902"
      ]
     },
     "execution_count": 19,
     "metadata": {},
     "output_type": "execute_result"
    }
   ],
   "source": [
    "import numpy as np\n",
    "\n",
    "Pmax = 590.00\n",
    "Vmp = 44.91\n",
    "Imp = 13.14\n",
    "Voc = 54.76\n",
    "Isc = 13.71\n",
    "\n",
    "input1 = np.array([Pmax,Vmp,Imp,Voc,Isc], ndmin=2)\n",
    "\n",
    "solar_pred = sol_model.predict(input1)[0]\n",
    "solar_pred"
   ]
  },
  {
   "cell_type": "markdown",
   "id": "028cb488",
   "metadata": {},
   "source": [
    "### pickle file creation"
   ]
  },
  {
   "cell_type": "code",
   "execution_count": 20,
   "id": "c06874f8",
   "metadata": {},
   "outputs": [],
   "source": [
    "import pickle\n",
    "\n",
    "with open('model.pkl','wb') as file:\n",
    "    pickle.dump(sol_model,file)"
   ]
  },
  {
   "cell_type": "code",
   "execution_count": 21,
   "id": "cdad14c7",
   "metadata": {},
   "outputs": [],
   "source": [
    "# create json file\n",
    "import json\n",
    "\n",
    "columns_list = list(x.columns)\n",
    "\n",
    "dict1 = {'columns':columns_list}\n",
    "\n",
    "with open('features.json','w') as file:\n",
    "    json.dump(dict1,file)"
   ]
  }
 ],
 "metadata": {
  "kernelspec": {
   "display_name": "Python 3 (ipykernel)",
   "language": "python",
   "name": "python3"
  },
  "language_info": {
   "codemirror_mode": {
    "name": "ipython",
    "version": 3
   },
   "file_extension": ".py",
   "mimetype": "text/x-python",
   "name": "python",
   "nbconvert_exporter": "python",
   "pygments_lexer": "ipython3",
   "version": "3.10.4"
  }
 },
 "nbformat": 4,
 "nbformat_minor": 5
}
